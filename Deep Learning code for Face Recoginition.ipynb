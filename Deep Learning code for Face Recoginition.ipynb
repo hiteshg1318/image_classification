{
 "cells": [
  {
   "cell_type": "code",
   "execution_count": 1,
   "id": "15164194-2986-4252-b8ca-016f047d24ab",
   "metadata": {},
   "outputs": [],
   "source": [
    "import tensorflow as tf\n",
    "from keras.applications.vgg16 import VGG16\n",
    "from keras.models import Model\n",
    "from keras.preprocessing import image\n",
    "from keras.layers import Input, Lambda ,Dense ,Flatten , Dropout , GlobalAveragePooling2D"
   ]
  },
  {
   "cell_type": "code",
   "execution_count": 2,
   "id": "9cbe130b-9ecf-4c5b-83c4-84c3afbb8fa2",
   "metadata": {},
   "outputs": [
    {
     "name": "stdout",
     "output_type": "stream",
     "text": [
      "Model: \"vgg16\"\n",
      "_________________________________________________________________\n",
      " Layer (type)                Output Shape              Param #   \n",
      "=================================================================\n",
      " input_1 (InputLayer)        [(None, 64, 64, 3)]       0         \n",
      "                                                                 \n",
      " block1_conv1 (Conv2D)       (None, 64, 64, 64)        1792      \n",
      "                                                                 \n",
      " block1_conv2 (Conv2D)       (None, 64, 64, 64)        36928     \n",
      "                                                                 \n",
      " block1_pool (MaxPooling2D)  (None, 32, 32, 64)        0         \n",
      "                                                                 \n",
      " block2_conv1 (Conv2D)       (None, 32, 32, 128)       73856     \n",
      "                                                                 \n",
      " block2_conv2 (Conv2D)       (None, 32, 32, 128)       147584    \n",
      "                                                                 \n",
      " block2_pool (MaxPooling2D)  (None, 16, 16, 128)       0         \n",
      "                                                                 \n",
      " block3_conv1 (Conv2D)       (None, 16, 16, 256)       295168    \n",
      "                                                                 \n",
      " block3_conv2 (Conv2D)       (None, 16, 16, 256)       590080    \n",
      "                                                                 \n",
      " block3_conv3 (Conv2D)       (None, 16, 16, 256)       590080    \n",
      "                                                                 \n",
      " block3_pool (MaxPooling2D)  (None, 8, 8, 256)         0         \n",
      "                                                                 \n",
      " block4_conv1 (Conv2D)       (None, 8, 8, 512)         1180160   \n",
      "                                                                 \n",
      " block4_conv2 (Conv2D)       (None, 8, 8, 512)         2359808   \n",
      "                                                                 \n",
      " block4_conv3 (Conv2D)       (None, 8, 8, 512)         2359808   \n",
      "                                                                 \n",
      " block4_pool (MaxPooling2D)  (None, 4, 4, 512)         0         \n",
      "                                                                 \n",
      " block5_conv1 (Conv2D)       (None, 4, 4, 512)         2359808   \n",
      "                                                                 \n",
      " block5_conv2 (Conv2D)       (None, 4, 4, 512)         2359808   \n",
      "                                                                 \n",
      " block5_conv3 (Conv2D)       (None, 4, 4, 512)         2359808   \n",
      "                                                                 \n",
      " block5_pool (MaxPooling2D)  (None, 2, 2, 512)         0         \n",
      "                                                                 \n",
      "=================================================================\n",
      "Total params: 14,714,688\n",
      "Trainable params: 14,714,688\n",
      "Non-trainable params: 0\n",
      "_________________________________________________________________\n"
     ]
    }
   ],
   "source": [
    "#vgg 16 model\n",
    "classifier_vgg16 = VGG16(input_shape= (64,64,3),include_top=False,weights='imagenet')\n",
    "classifier_vgg16.summary()"
   ]
  },
  {
   "cell_type": "code",
   "execution_count": 3,
   "id": "54018938-6d9a-4e97-93a2-ba2842699e1c",
   "metadata": {},
   "outputs": [],
   "source": [
    "#not train top layers\n",
    "for layer in classifier_vgg16.layers:\n",
    "    layer.trainable = False"
   ]
  },
  {
   "cell_type": "code",
   "execution_count": 4,
   "id": "da8be556-a242-452b-b707-e5d6b96c2973",
   "metadata": {},
   "outputs": [],
   "source": [
    "#adding extra layers for our class/images\n",
    "main_model = classifier_vgg16.output\n",
    "main_model = GlobalAveragePooling2D()(main_model)\n",
    "main_model = Dense(1024,activation='relu')(main_model)\n",
    "main_model = Dense(1024,activation='relu')(main_model)\n",
    "main_model = Dense(512,activation='relu')(main_model)\n",
    "main_model = Dropout(0.5)(main_model)\n",
    "main_model = Dense(4,activation='softmax')(main_model)"
   ]
  },
  {
   "cell_type": "code",
   "execution_count": 5,
   "id": "fb38cb84-9eb1-4301-863d-d8f7ebf967c7",
   "metadata": {},
   "outputs": [],
   "source": [
    "#compiling\n",
    "from tensorflow.keras.optimizers.legacy import Adam\n",
    "model = Model(inputs = classifier_vgg16.input , outputs = main_model)\n",
    "\n",
    "model.compile(optimizer='adam', loss='categorical_crossentropy', metrics=['accuracy'])\n"
   ]
  },
  {
   "cell_type": "code",
   "execution_count": 6,
   "id": "d8acb2bb-f6bb-4285-9d88-76d5af3e5221",
   "metadata": {},
   "outputs": [],
   "source": [
    "# Part 2 - Fitting the CNN to the images\n",
    "from tensorflow.keras.preprocessing.image import ImageDataGenerator\n",
    "\n",
    "#use the image data generator to import the images from the dataset\n",
    "#data augmentation\n",
    "train_datagen = ImageDataGenerator(rescale=1./255,\n",
    "                                   rotation_range=20,\n",
    "                                   width_shift_range=0.2,\n",
    "                                   height_shift_range=0.2,\n",
    "                                   horizontal_flip=True,\n",
    "                                   fill_mode='nearest')\n",
    "\n",
    "test_datagen = ImageDataGenerator(rescale=1. / 255)"
   ]
  },
  {
   "cell_type": "code",
   "execution_count": 7,
   "id": "478b3715-251d-4e1b-97b4-cd29f8b5a93b",
   "metadata": {},
   "outputs": [
    {
     "name": "stdout",
     "output_type": "stream",
     "text": [
      "Found 96 images belonging to 4 classes.\n",
      "Found 20 images belonging to 4 classes.\n"
     ]
    }
   ],
   "source": [
    "#makes sure you provide the same target as initialised for the image size\n",
    "training_set = train_datagen.flow_from_directory('C:\\\\Users\\\\hites\\\\OneDrive\\\\Desktop\\\\SPJIMR Docs\\\\Subjects\\\\Python Classes\\\\AI ML\\\\Project Work\\\\Train',\n",
    "                                                 target_size=(64, 64),\n",
    "                                                 batch_size=15,\n",
    "                                                 class_mode='categorical')\n",
    "\n",
    "test_set = test_datagen.flow_from_directory('C:\\\\Users\\\\hites\\\\OneDrive\\\\Desktop\\\\SPJIMR Docs\\\\Subjects\\\\Python Classes\\\\AI ML\\\\Project Work\\\\Test',\n",
    "                                            target_size=(64, 64),\n",
    "                                            batch_size=10,\n",
    "                                            class_mode='categorical',\n",
    "                                            shuffle=False)"
   ]
  },
  {
   "cell_type": "code",
   "execution_count": 8,
   "id": "52666624-b882-4a6a-aa10-f231f751d525",
   "metadata": {},
   "outputs": [],
   "source": [
    "obj_label_dict = {\n",
    "    'hitesh': 0,\n",
    "    'ishan': 1,\n",
    "    'randeep': 2,\n",
    "    'saloni':3\n",
    "}"
   ]
  },
  {
   "cell_type": "code",
   "execution_count": 9,
   "id": "7bd3b0bb-ed1a-4142-a7ed-2c8109c230c6",
   "metadata": {},
   "outputs": [
    {
     "name": "stdout",
     "output_type": "stream",
     "text": [
      "Epoch 1/30\n",
      "7/7 [==============================] - 10s 544ms/step - loss: 1.7008 - accuracy: 0.2396 - val_loss: 1.4446 - val_accuracy: 0.3500\n",
      "Epoch 2/30\n",
      "7/7 [==============================] - 3s 396ms/step - loss: 1.4077 - accuracy: 0.3333 - val_loss: 1.3051 - val_accuracy: 0.4000\n",
      "Epoch 3/30\n",
      "7/7 [==============================] - 3s 432ms/step - loss: 1.2770 - accuracy: 0.4062 - val_loss: 1.1561 - val_accuracy: 0.5500\n",
      "Epoch 4/30\n",
      "7/7 [==============================] - 3s 365ms/step - loss: 1.0767 - accuracy: 0.5833 - val_loss: 0.9936 - val_accuracy: 0.7000\n",
      "Epoch 5/30\n",
      "7/7 [==============================] - 3s 360ms/step - loss: 0.8889 - accuracy: 0.6562 - val_loss: 0.9597 - val_accuracy: 0.7000\n",
      "Epoch 6/30\n",
      "7/7 [==============================] - 3s 387ms/step - loss: 0.7510 - accuracy: 0.6771 - val_loss: 0.7311 - val_accuracy: 0.8000\n",
      "Epoch 7/30\n",
      "7/7 [==============================] - 3s 392ms/step - loss: 0.7101 - accuracy: 0.6771 - val_loss: 0.9413 - val_accuracy: 0.7000\n",
      "Epoch 8/30\n",
      "7/7 [==============================] - 3s 445ms/step - loss: 0.7146 - accuracy: 0.7292 - val_loss: 1.0025 - val_accuracy: 0.6500\n",
      "Epoch 9/30\n",
      "7/7 [==============================] - 3s 428ms/step - loss: 0.5590 - accuracy: 0.7604 - val_loss: 0.8087 - val_accuracy: 0.7000\n",
      "Epoch 10/30\n",
      "7/7 [==============================] - 3s 386ms/step - loss: 0.4911 - accuracy: 0.8021 - val_loss: 0.9538 - val_accuracy: 0.7000\n",
      "Epoch 11/30\n",
      "7/7 [==============================] - 3s 466ms/step - loss: 0.4410 - accuracy: 0.8333 - val_loss: 1.1293 - val_accuracy: 0.6500\n",
      "Epoch 12/30\n",
      "7/7 [==============================] - 3s 495ms/step - loss: 0.3536 - accuracy: 0.8542 - val_loss: 0.9329 - val_accuracy: 0.7500\n",
      "Epoch 13/30\n",
      "7/7 [==============================] - 3s 469ms/step - loss: 0.4711 - accuracy: 0.7917 - val_loss: 0.9192 - val_accuracy: 0.7000\n",
      "Epoch 14/30\n",
      "7/7 [==============================] - 3s 476ms/step - loss: 0.4622 - accuracy: 0.7917 - val_loss: 1.0250 - val_accuracy: 0.6500\n",
      "Epoch 15/30\n",
      "7/7 [==============================] - 3s 431ms/step - loss: 0.3710 - accuracy: 0.8542 - val_loss: 0.6866 - val_accuracy: 0.6500\n",
      "Epoch 16/30\n",
      "7/7 [==============================] - 3s 408ms/step - loss: 0.2374 - accuracy: 0.9167 - val_loss: 0.8296 - val_accuracy: 0.7000\n",
      "Epoch 17/30\n",
      "7/7 [==============================] - 3s 418ms/step - loss: 0.3433 - accuracy: 0.9062 - val_loss: 1.0827 - val_accuracy: 0.6500\n",
      "Epoch 18/30\n",
      "7/7 [==============================] - 3s 462ms/step - loss: 0.2228 - accuracy: 0.9167 - val_loss: 1.0946 - val_accuracy: 0.6500\n",
      "Epoch 19/30\n",
      "7/7 [==============================] - 3s 448ms/step - loss: 0.2727 - accuracy: 0.8958 - val_loss: 1.0679 - val_accuracy: 0.6500\n",
      "Epoch 20/30\n",
      "7/7 [==============================] - 3s 425ms/step - loss: 0.3204 - accuracy: 0.8646 - val_loss: 0.8155 - val_accuracy: 0.7500\n",
      "Epoch 21/30\n",
      "7/7 [==============================] - 3s 418ms/step - loss: 0.2146 - accuracy: 0.9375 - val_loss: 0.7772 - val_accuracy: 0.7000\n",
      "Epoch 22/30\n",
      "7/7 [==============================] - 3s 427ms/step - loss: 0.2183 - accuracy: 0.9479 - val_loss: 1.1346 - val_accuracy: 0.6500\n",
      "Epoch 23/30\n",
      "7/7 [==============================] - 3s 489ms/step - loss: 0.3090 - accuracy: 0.9062 - val_loss: 1.0208 - val_accuracy: 0.7500\n",
      "Epoch 24/30\n",
      "7/7 [==============================] - 3s 453ms/step - loss: 0.3362 - accuracy: 0.8958 - val_loss: 0.8242 - val_accuracy: 0.7500\n",
      "Epoch 25/30\n",
      "7/7 [==============================] - 3s 426ms/step - loss: 0.2542 - accuracy: 0.9062 - val_loss: 0.6837 - val_accuracy: 0.8000\n",
      "Epoch 26/30\n",
      "7/7 [==============================] - 3s 412ms/step - loss: 0.2928 - accuracy: 0.9167 - val_loss: 0.8691 - val_accuracy: 0.7000\n",
      "Epoch 27/30\n",
      "7/7 [==============================] - 3s 409ms/step - loss: 0.2172 - accuracy: 0.9167 - val_loss: 1.2232 - val_accuracy: 0.6500\n",
      "Epoch 28/30\n",
      "7/7 [==============================] - 3s 446ms/step - loss: 0.1269 - accuracy: 0.9688 - val_loss: 1.2252 - val_accuracy: 0.7000\n",
      "Epoch 29/30\n",
      "7/7 [==============================] - 3s 446ms/step - loss: 0.2319 - accuracy: 0.9062 - val_loss: 1.1054 - val_accuracy: 0.7500\n",
      "Epoch 30/30\n",
      "7/7 [==============================] - 3s 447ms/step - loss: 0.1520 - accuracy: 0.9583 - val_loss: 1.5727 - val_accuracy: 0.6000\n"
     ]
    }
   ],
   "source": [
    "#fit the model\n",
    "#it will take some time to train\n",
    "\n",
    "\n",
    "nb_train_samples=1190\n",
    "nb_validation_samples=170\n",
    "batch_size=50\n",
    "\n",
    "history = model.fit(training_set,\n",
    "                              validation_data=test_set,\n",
    "                              epochs=30,\n",
    "                              validation_steps=None)"
   ]
  },
  {
   "cell_type": "code",
   "execution_count": 13,
   "id": "a03bf78e-8a89-4468-93c6-b9a9b742a7f9",
   "metadata": {},
   "outputs": [
    {
     "data": {
      "image/png": "[encoded data removed]",
      "text/plain": [
       "<Figure size 432x288 with 1 Axes>"
      ]
     },
     "metadata": {
      "needs_background": "light"
     },
     "output_type": "display_data"
    },
    {
     "data": {
      "image/png": "[encoded data removed]",
      "text/plain": [
       "<Figure size 432x288 with 1 Axes>"
      ]
     },
     "metadata": {
      "needs_background": "light"
     },
     "output_type": "display_data"
    }
   ],
   "source": [
    "#PLOTTING accuracy\n",
    "import matplotlib.pyplot as plt\n",
    "plt.plot(history.history['accuracy'] , label = 'train acc')\n",
    "plt.plot(history.history['val_accuracy'] , label = 'val acc')\n",
    "plt.legend()\n",
    "plt.show()\n",
    "\n",
    "#PLOTTING loss\n",
    "import matplotlib.pyplot as plt\n",
    "plt.plot(history.history['loss'] , label = 'train loss')\n",
    "plt.plot(history.history['val_loss'] , label = 'val loss')\n",
    "plt.legend()\n",
    "plt.show()"
   ]
  },
  {
   "cell_type": "code",
   "execution_count": 10,
   "id": "fd43b7dd-8411-4a79-a6c0-ed7bc045cd3a",
   "metadata": {},
   "outputs": [],
   "source": [
    "model.save(\"C:\\\\Users\\\\hites\\\\OneDrive\\\\Desktop\\\\SPJIMR Docs\\\\Subjects\\\\Python Classes\\\\AI ML\\\\Project Work\\\\face_recog_vgg_new.h5\")"
   ]
  },
  {
   "cell_type": "code",
   "execution_count": 11,
   "id": "d6cb0602-5008-478c-963f-886570c608a2",
   "metadata": {},
   "outputs": [],
   "source": [
    "from keras.models import load_model\n",
    "classifier = load_model('C:\\\\Users\\\\hites\\\\OneDrive\\\\Desktop\\\\SPJIMR Docs\\\\Subjects\\\\Python Classes\\\\AI ML\\\\Project Work\\\\face_recog_vgg_new.h5')"
   ]
  },
  {
   "cell_type": "code",
   "execution_count": 12,
   "id": "ced0b2dd-b6ee-444f-b24b-d4a2129820b4",
   "metadata": {},
   "outputs": [],
   "source": [
    "from PIL import Image \n",
    "import base64\n",
    "from io import BytesIO\n",
    "import json\n",
    "import random\n",
    "import cv2\n",
    "import numpy as np"
   ]
  },
  {
   "cell_type": "code",
   "execution_count": 22,
   "id": "20e9db40-c378-413e-a6dc-3ae8bc291931",
   "metadata": {},
   "outputs": [
    {
     "name": "stdout",
     "output_type": "stream",
     "text": [
      "1/1 [==============================] - 0s 49ms/step\n",
      "[[0. 1. 0. 0.]]\n",
      "Img 4 :  ishan\n"
     ]
    }
   ],
   "source": [
    "import keras\n",
    "from keras.utils import load_img, img_to_array\n",
    "img_shape = (64,64)\n",
    "##load image for prediction\n",
    "keras.utils.load_img(\n",
    "    'C:\\\\Users\\\\hites\\\\OneDrive\\\\Desktop\\\\SPJIMR Docs\\\\Subjects\\\\Python Classes\\\\AI ML\\\\Project Work\\\\Prediction\\\\Img 2.jpg', \n",
    "    grayscale=False, color_mode=\"rgb\", target_size=None, interpolation=\"nearest\"\n",
    "    )\n",
    "\n",
    "##preprocess image\n",
    "name = 'Img 4'\n",
    "image = keras.utils.load_img(\"C:\\\\Users\\\\hites\\\\OneDrive\\\\Desktop\\\\SPJIMR Docs\\\\Subjects\\\\Python Classes\\\\AI ML\\\\Project Work\\\\Prediction\\\\\"+name+'.jpg', grayscale=False, color_mode=\"rgb\", target_size=(224, 224), interpolation=\"nearest\")\n",
    "import PIL.Image as Image\n",
    "img = Image.open(\"C:\\\\Users\\\\hites\\\\OneDrive\\\\Desktop\\\\SPJIMR Docs\\\\Subjects\\\\Python Classes\\\\AI ML\\\\Project Work\\\\Prediction\\\\\"+name+'.jpg').resize(img_shape)\n",
    "input_arr = keras.utils.img_to_array(image.resize(img_shape))\n",
    "input_arr = np.array([input_arr])  # Convert single image to a batch.\n",
    "predictions = classifier.predict(input_arr)\n",
    "print(predictions)\n",
    "prediction = np.argmax(predictions,axis=1)\n",
    "print(name,': ', list(obj_label_dict.keys())[list(obj_label_dict.values()).index(prediction)])"
   ]
  },
  {
   "cell_type": "code",
   "execution_count": 23,
   "id": "1d00ab35-5be5-4ef0-bf9c-f79ca5b813c8",
   "metadata": {},
   "outputs": [
    {
     "data": {
      "image/png": "[encoded data removed]",
      "text/plain": [
       "<PIL.Image.Image image mode=RGB size=64x64 at 0x272848B7670>"
      ]
     },
     "execution_count": 23,
     "metadata": {},
     "output_type": "execute_result"
    }
   ],
   "source": [
    "img"
   ]
  },
  {
   "cell_type": "code",
   "execution_count": null,
   "id": "34cfb980-be0d-4c13-a102-a3a5d791d769",
   "metadata": {},
   "outputs": [],
   "source": [
    "\n"
   ]
  },
  {
   "cell_type": "code",
   "execution_count": null,
   "id": "767b0488-b627-4874-b661-7e5972f8a59c",
   "metadata": {},
   "outputs": [],
   "source": []
  }
 ],
 "metadata": {
  "kernelspec": {
   "display_name": "Python 3 (ipykernel)",
   "language": "python",
   "name": "python3"
  },
  "language_info": {
   "codemirror_mode": {
    "name": "ipython",
    "version": 3
   },
   "file_extension": ".py",
   "mimetype": "text/x-python",
   "name": "python",
   "nbconvert_exporter": "python",
   "pygments_lexer": "ipython3",
   "version": "3.9.12"
  }
 },
 "nbformat": 4,
 "nbformat_minor": 5
}
